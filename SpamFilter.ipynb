{
 "cells": [
  {
   "cell_type": "markdown",
   "metadata": {},
   "source": [
    "<h2>SMS Spam Filter</h2>"
   ]
  },
  {
   "cell_type": "markdown",
   "metadata": {},
   "source": [
    "We will build a basic spam filter using the UCI SMS Spam Collection Data Set: https://archive.ics.uci.edu/ml/datasets/sms+spam+collection\n"
   ]
  },
  {
   "cell_type": "code",
   "execution_count": 67,
   "metadata": {},
   "outputs": [],
   "source": [
    "import numpy as np\n",
    "import string\n",
    "import pandas as pd\n",
    "import matplotlib.pyplot as plt\n",
    "import re\n",
    "from collections import Counter\n",
    "from sklearn.model_selection import train_test_split\n",
    "%matplotlib inline"
   ]
  },
  {
   "cell_type": "code",
   "execution_count": 68,
   "metadata": {},
   "outputs": [],
   "source": [
    "import warnings\n",
    "warnings.filterwarnings('ignore')"
   ]
  },
  {
   "cell_type": "markdown",
   "metadata": {},
   "source": [
    "We begin by reading in the data and only keeping columns that indicate spam/ham and content of message."
   ]
  },
  {
   "cell_type": "code",
   "execution_count": 557,
   "metadata": {},
   "outputs": [],
   "source": [
    "df = pd.read_csv('spam.csv',encoding='latin-1')\n",
    "\n",
    "df = df[['v1','v2']]\n",
    "\n",
    "df.columns = ['Spam','Message']"
   ]
  },
  {
   "cell_type": "code",
   "execution_count": 558,
   "metadata": {},
   "outputs": [
    {
     "data": {
      "text/html": [
       "<div>\n",
       "<style scoped>\n",
       "    .dataframe tbody tr th:only-of-type {\n",
       "        vertical-align: middle;\n",
       "    }\n",
       "\n",
       "    .dataframe tbody tr th {\n",
       "        vertical-align: top;\n",
       "    }\n",
       "\n",
       "    .dataframe thead th {\n",
       "        text-align: right;\n",
       "    }\n",
       "</style>\n",
       "<table border=\"1\" class=\"dataframe\">\n",
       "  <thead>\n",
       "    <tr style=\"text-align: right;\">\n",
       "      <th></th>\n",
       "      <th>Spam</th>\n",
       "      <th>Message</th>\n",
       "    </tr>\n",
       "  </thead>\n",
       "  <tbody>\n",
       "    <tr>\n",
       "      <th>0</th>\n",
       "      <td>ham</td>\n",
       "      <td>Go until jurong point, crazy.. Available only ...</td>\n",
       "    </tr>\n",
       "    <tr>\n",
       "      <th>1</th>\n",
       "      <td>ham</td>\n",
       "      <td>Ok lar... Joking wif u oni...</td>\n",
       "    </tr>\n",
       "    <tr>\n",
       "      <th>2</th>\n",
       "      <td>spam</td>\n",
       "      <td>Free entry in 2 a wkly comp to win FA Cup fina...</td>\n",
       "    </tr>\n",
       "    <tr>\n",
       "      <th>3</th>\n",
       "      <td>ham</td>\n",
       "      <td>U dun say so early hor... U c already then say...</td>\n",
       "    </tr>\n",
       "    <tr>\n",
       "      <th>4</th>\n",
       "      <td>ham</td>\n",
       "      <td>Nah I don't think he goes to usf, he lives aro...</td>\n",
       "    </tr>\n",
       "  </tbody>\n",
       "</table>\n",
       "</div>"
      ],
      "text/plain": [
       "   Spam                                            Message\n",
       "0   ham  Go until jurong point, crazy.. Available only ...\n",
       "1   ham                      Ok lar... Joking wif u oni...\n",
       "2  spam  Free entry in 2 a wkly comp to win FA Cup fina...\n",
       "3   ham  U dun say so early hor... U c already then say...\n",
       "4   ham  Nah I don't think he goes to usf, he lives aro..."
      ]
     },
     "execution_count": 558,
     "metadata": {},
     "output_type": "execute_result"
    }
   ],
   "source": [
    "df.head()"
   ]
  },
  {
   "cell_type": "markdown",
   "metadata": {},
   "source": [
    "Check for any disparity between amount of spam and ham messages."
   ]
  },
  {
   "cell_type": "code",
   "execution_count": 559,
   "metadata": {
    "scrolled": false
   },
   "outputs": [
    {
     "data": {
      "image/png": "[encoded data removed]",
      "text/plain": [
       "<Figure size 432x288 with 1 Axes>"
      ]
     },
     "metadata": {
      "needs_background": "light"
     },
     "output_type": "display_data"
    }
   ],
   "source": [
    "df.Spam.value_counts().plot(kind='bar', title='Count')\n",
    "plt.show()"
   ]
  },
  {
   "cell_type": "markdown",
   "metadata": {},
   "source": [
    "Ham messages far exceed spam messages in this data set."
   ]
  },
  {
   "cell_type": "markdown",
   "metadata": {},
   "source": [
    "Convert spam/ham column to 0='ham' and 1='spam'."
   ]
  },
  {
   "cell_type": "code",
   "execution_count": 560,
   "metadata": {
    "scrolled": false
   },
   "outputs": [],
   "source": [
    "# check which rows are spam to get TRUE/FALSE then multiply Spam column by 1\n",
    "df['Spam'] = df.Spam.eq('spam').mul(1)"
   ]
  },
  {
   "cell_type": "code",
   "execution_count": 561,
   "metadata": {},
   "outputs": [
    {
     "data": {
      "text/html": [
       "<div>\n",
       "<style scoped>\n",
       "    .dataframe tbody tr th:only-of-type {\n",
       "        vertical-align: middle;\n",
       "    }\n",
       "\n",
       "    .dataframe tbody tr th {\n",
       "        vertical-align: top;\n",
       "    }\n",
       "\n",
       "    .dataframe thead th {\n",
       "        text-align: right;\n",
       "    }\n",
       "</style>\n",
       "<table border=\"1\" class=\"dataframe\">\n",
       "  <thead>\n",
       "    <tr style=\"text-align: right;\">\n",
       "      <th></th>\n",
       "      <th>Spam</th>\n",
       "      <th>Message</th>\n",
       "    </tr>\n",
       "  </thead>\n",
       "  <tbody>\n",
       "    <tr>\n",
       "      <th>0</th>\n",
       "      <td>0</td>\n",
       "      <td>Go until jurong point, crazy.. Available only ...</td>\n",
       "    </tr>\n",
       "    <tr>\n",
       "      <th>1</th>\n",
       "      <td>0</td>\n",
       "      <td>Ok lar... Joking wif u oni...</td>\n",
       "    </tr>\n",
       "    <tr>\n",
       "      <th>2</th>\n",
       "      <td>1</td>\n",
       "      <td>Free entry in 2 a wkly comp to win FA Cup fina...</td>\n",
       "    </tr>\n",
       "    <tr>\n",
       "      <th>3</th>\n",
       "      <td>0</td>\n",
       "      <td>U dun say so early hor... U c already then say...</td>\n",
       "    </tr>\n",
       "    <tr>\n",
       "      <th>4</th>\n",
       "      <td>0</td>\n",
       "      <td>Nah I don't think he goes to usf, he lives aro...</td>\n",
       "    </tr>\n",
       "  </tbody>\n",
       "</table>\n",
       "</div>"
      ],
      "text/plain": [
       "   Spam                                            Message\n",
       "0     0  Go until jurong point, crazy.. Available only ...\n",
       "1     0                      Ok lar... Joking wif u oni...\n",
       "2     1  Free entry in 2 a wkly comp to win FA Cup fina...\n",
       "3     0  U dun say so early hor... U c already then say...\n",
       "4     0  Nah I don't think he goes to usf, he lives aro..."
      ]
     },
     "execution_count": 561,
     "metadata": {},
     "output_type": "execute_result"
    }
   ],
   "source": [
    "df.head()"
   ]
  },
  {
   "cell_type": "markdown",
   "metadata": {},
   "source": [
    "Separate into train and test set with 25% of data going to test and utilize stratify to ensure the same proportion of spam in each set."
   ]
  },
  {
   "cell_type": "code",
   "execution_count": 562,
   "metadata": {},
   "outputs": [],
   "source": [
    "train_set, test_set = train_test_split(df,test_size=0.25,stratify=df['Spam'],random_state=42)"
   ]
  },
  {
   "cell_type": "markdown",
   "metadata": {},
   "source": [
    "Check ratio of spam in both train and test set. Want the values to be close. "
   ]
  },
  {
   "cell_type": "code",
   "execution_count": 563,
   "metadata": {
    "scrolled": true
   },
   "outputs": [
    {
     "name": "stdout",
     "output_type": "stream",
     "text": [
      "train spam: 13.40%  \n",
      "test spam: 13.42% \n"
     ]
    }
   ],
   "source": [
    "train_SpamRatio = round(sum(train_set['Spam'])/len(train_set)*100,2)\n",
    "test_SpamRatio = round(sum(test_set['Spam'])/len(test_set)*100,2)\n",
    "print('train spam: %.2f%%  \\ntest spam: %.2f%% ' %(train_SpamRatio,test_SpamRatio))"
   ]
  },
  {
   "cell_type": "markdown",
   "metadata": {},
   "source": [
    "The values are close enough so we may proceed."
   ]
  },
  {
   "cell_type": "markdown",
   "metadata": {},
   "source": [
    "We will define the function messageList to transform each message into a list of strings and remove nonchar elements as well as converting to lowercase."
   ]
  },
  {
   "cell_type": "code",
   "execution_count": 89,
   "metadata": {},
   "outputs": [],
   "source": [
    "def messageList(s):\n",
    "    # split strings and convert to lowercase\n",
    "    s = re.findall(r\"[\\w']+|[.,!?;]\", s.lower())\n",
    "    # remove punctuations and digits\n",
    "    s = [x.translate(str.maketrans('', '', string.punctuation)) for x in s ]\n",
    "    l = [x for x in s if not any(c.isdigit() for c in x)]\n",
    "    final = [x for x in l if x.isalnum()]\n",
    "    return(final)"
   ]
  },
  {
   "cell_type": "markdown",
   "metadata": {},
   "source": [
    "Separate ham and spam observations into their own dataframes to gain further insights into each group individually."
   ]
  },
  {
   "cell_type": "code",
   "execution_count": 564,
   "metadata": {},
   "outputs": [],
   "source": [
    "ham = train_set.loc[(train_set['Spam']==0)]\n",
    "spam = train_set.loc[(train_set['Spam']==1)]"
   ]
  },
  {
   "cell_type": "markdown",
   "metadata": {},
   "source": [
    "Apply messageList function to both dataframes."
   ]
  },
  {
   "cell_type": "code",
   "execution_count": 565,
   "metadata": {
    "scrolled": false
   },
   "outputs": [],
   "source": [
    "ham.loc[:,'messageList'] = pd.Series(ham['Message'].apply(messageList))\n",
    "spam.loc[:,'messageList'] = pd.Series(spam['Message'].apply(messageList))"
   ]
  },
  {
   "cell_type": "markdown",
   "metadata": {},
   "source": [
    "Build ham and spam word libraries."
   ]
  },
  {
   "cell_type": "code",
   "execution_count": 566,
   "metadata": {},
   "outputs": [],
   "source": [
    "# isolate all words in ham messages\n",
    "hamLib = ham.messageList.tolist()\n",
    "hamLib = list([a for b in hamLib for a in b])\n",
    "\n",
    "# isolate all words in spam messages\n",
    "spamLib = spam.messageList.tolist()\n",
    "spamLib = list([a for b in spamLib for a in b])\n",
    "\n",
    "# build separate list of all ham and spam words\n",
    "# Note one could input an integer n to the most_common function\n",
    "# in order to return only the top n words in each category. \n",
    "hamLib_Common = [word for word, word_count in Counter(hamLib).most_common()]\n",
    "spamLib_Common = [word for word, word_count in Counter(spamLib).most_common()]"
   ]
  },
  {
   "cell_type": "markdown",
   "metadata": {},
   "source": [
    "Want to remove words that show up in both ham and spam libraries."
   ]
  },
  {
   "cell_type": "code",
   "execution_count": 567,
   "metadata": {
    "scrolled": true
   },
   "outputs": [],
   "source": [
    "# Define function to return words that are common to both ham and spam libraries.\n",
    "def intersection(l1, l2): \n",
    "    temp = set(l2) \n",
    "    l3 = [val for val in l1 if val in temp] \n",
    "    return(l3)"
   ]
  },
  {
   "cell_type": "code",
   "execution_count": 568,
   "metadata": {},
   "outputs": [],
   "source": [
    "# define library of intersecting words between ham and spam\n",
    "interLib = intersection(hamLib_Common,spamLib_Common)"
   ]
  },
  {
   "cell_type": "code",
   "execution_count": 569,
   "metadata": {},
   "outputs": [],
   "source": [
    "# remove intersecting words from the ham and spam libraries\n",
    "hamLib2 = list(set(hamLib_Common)^set(interLib))\n",
    "spamLib2 = list(set(spamLib_Common)^set(interLib))"
   ]
  },
  {
   "cell_type": "markdown",
   "metadata": {},
   "source": [
    "Form totalLib using the unique ham and unique spam words."
   ]
  },
  {
   "cell_type": "code",
   "execution_count": 570,
   "metadata": {},
   "outputs": [],
   "source": [
    "totalLib = hamLib2 + spamLib2"
   ]
  },
  {
   "cell_type": "code",
   "execution_count": 571,
   "metadata": {},
   "outputs": [],
   "source": [
    "# Apply messageList function to trainining set\n",
    "train_set.loc[:,'messageList'] = pd.Series(train_set['Message'].apply(messageList))"
   ]
  },
  {
   "cell_type": "markdown",
   "metadata": {},
   "source": [
    "Find length of SMS."
   ]
  },
  {
   "cell_type": "code",
   "execution_count": 572,
   "metadata": {},
   "outputs": [],
   "source": [
    "def messageLength(messList):\n",
    "    return(len(messList))"
   ]
  },
  {
   "cell_type": "code",
   "execution_count": 573,
   "metadata": {},
   "outputs": [],
   "source": [
    "train_set['messageLen'] = train_set['messageList'].apply(messageLength)"
   ]
  },
  {
   "cell_type": "markdown",
   "metadata": {},
   "source": [
    "As most Spam messages contain numbers and multiple capital letters, we will add a feature to calculate this."
   ]
  },
  {
   "cell_type": "code",
   "execution_count": 574,
   "metadata": {},
   "outputs": [],
   "source": [
    "def howManyCapsInts(messList):\n",
    "    caps = sum(1 for c in messList if c.isupper())\n",
    "    ints = sum(c.isdigit() for c in messList)\n",
    "    return(caps+ints)"
   ]
  },
  {
   "cell_type": "code",
   "execution_count": 575,
   "metadata": {},
   "outputs": [],
   "source": [
    "train_set['caps&ints'] = train_set['Message'].apply(howManyCapsInts)"
   ]
  },
  {
   "cell_type": "markdown",
   "metadata": {},
   "source": [
    "Also we will add a feature that shows the ratio of nonalphanumeric characters to the length of the message."
   ]
  },
  {
   "cell_type": "code",
   "execution_count": 576,
   "metadata": {},
   "outputs": [],
   "source": [
    "#function to figure out the ratio of non alphanumeric characters to length of string\n",
    "def non_alphaNum(s):\n",
    "    length = len(s)\n",
    "    pattern = r'[^a-zA-Z0-9\\_\\s]'\n",
    "    result = re.findall(pattern, s)\n",
    "    return(len(result)/length)"
   ]
  },
  {
   "cell_type": "code",
   "execution_count": 577,
   "metadata": {},
   "outputs": [],
   "source": [
    "train_set['ratio'] = train_set['Message'].apply(non_alphaNum)"
   ]
  },
  {
   "cell_type": "markdown",
   "metadata": {},
   "source": [
    "Obtain words in each message that fall into the totalLib library. We will apply bag of words to this list later."
   ]
  },
  {
   "cell_type": "code",
   "execution_count": 578,
   "metadata": {},
   "outputs": [],
   "source": [
    "# return list of words in each original message that also fall in totalLib constructed above\n",
    "def topMessage(m):\n",
    "    uniqueM = set(m)\n",
    "    res = [x for x in totalLib if x in m]\n",
    "    return(res)"
   ]
  },
  {
   "cell_type": "code",
   "execution_count": 579,
   "metadata": {},
   "outputs": [],
   "source": [
    "train_set.loc[:,'cleanMessage'] = pd.Series(train_set['messageList'].apply(topMessage))"
   ]
  },
  {
   "cell_type": "code",
   "execution_count": 580,
   "metadata": {},
   "outputs": [],
   "source": [
    "# define bag of words function to vectorize each SMS\n",
    "def bow(m,vocab):\n",
    "    bag = np.zeros(len(vocab))\n",
    "    for word in m:\n",
    "        for i,j in enumerate(vocab):\n",
    "            if j==word:\n",
    "                bag[i]+=1\n",
    "                \n",
    "    return(np.array(bag))"
   ]
  },
  {
   "cell_type": "markdown",
   "metadata": {},
   "source": [
    "Build new dataframe of vectorized messages with totalLib word library as features and merge with message length,# of capital and digits, and proportion of nonalphanumeric to form full training set."
   ]
  },
  {
   "cell_type": "code",
   "execution_count": 581,
   "metadata": {},
   "outputs": [],
   "source": [
    "vec =  pd.DataFrame()\n",
    "\n",
    "vec['col'] = (np.array(train_set.apply(lambda row : bow(row['cleanMessage'], \n",
    "                                 totalLib), axis = 1)))\n",
    "\n",
    "vec =  vec.col.apply(pd.Series)"
   ]
  },
  {
   "cell_type": "markdown",
   "metadata": {},
   "source": [
    "Now we will apply term frequency-inverse document frequency (tf-idf). The key idea is to weigh words like 'the','that','is' less as these terms likely appear frequently in the messages. More weight is added to words that appear several times in a single SMS but do not appear much in the rest of the collection of messages. Generally applying tf-idf performs better than raw word counts."
   ]
  },
  {
   "cell_type": "code",
   "execution_count": 582,
   "metadata": {},
   "outputs": [],
   "source": [
    "def tf_idf(freq):\n",
    "    # divide each entry by its row sum then multiply by log (#rows/column sum)\n",
    "    size = len(freq)\n",
    "    tf = freq.div(freq.sum(axis=1)+.1, axis=0)\n",
    "    idf = np.log(size/freq.sum())\n",
    "    tfidf = tf*idf\n",
    "    return([tfidf,idf])"
   ]
  },
  {
   "cell_type": "code",
   "execution_count": 607,
   "metadata": {
    "scrolled": true
   },
   "outputs": [],
   "source": [
    "# save idf value to apply it to test set later on\n",
    "vec,idf = tf_idf(vec)"
   ]
  },
  {
   "cell_type": "code",
   "execution_count": 584,
   "metadata": {},
   "outputs": [],
   "source": [
    "trainX = train_set[['messageLen','caps&ints','ratio']]"
   ]
  },
  {
   "cell_type": "code",
   "execution_count": 585,
   "metadata": {},
   "outputs": [],
   "source": [
    "trainX = trainX.reset_index().drop('index',axis=1)"
   ]
  },
  {
   "cell_type": "code",
   "execution_count": 586,
   "metadata": {},
   "outputs": [],
   "source": [
    "trainX = pd.concat([trainX, vec], axis=1, sort=False)\n",
    "trainY = train_set['Spam']"
   ]
  },
  {
   "cell_type": "markdown",
   "metadata": {},
   "source": [
    "We will now attempt different algorithms in search of one that offers strong performance on precision. As this is a spam filter, the biggest concern would be a user missing an SMS that should not have been classified as spam."
   ]
  },
  {
   "cell_type": "code",
   "execution_count": 587,
   "metadata": {},
   "outputs": [],
   "source": [
    "from sklearn.svm import SVC\n",
    "from sklearn.ensemble import RandomForestClassifier\n",
    "from sklearn.naive_bayes import MultinomialNB,GaussianNB\n",
    "from sklearn.model_selection import cross_val_score\n",
    "from sklearn.metrics import roc_auc_score\n",
    "from sklearn.metrics import classification_report"
   ]
  },
  {
   "cell_type": "code",
   "execution_count": 588,
   "metadata": {},
   "outputs": [],
   "source": [
    "# model =  SVC(C=10,class_weight='balanced',gamma='auto',kernel='rbf')\n",
    "model = RandomForestClassifier(n_estimators=100,max_features= 'log2',\n",
    "                               class_weight='balanced',random_state=42,max_depth=50) \n",
    "# model = MultinomialNB(fit_prior=True)\n",
    "scores = cross_val_score(model,trainX,trainY,scoring='precision',cv=5)"
   ]
  },
  {
   "cell_type": "code",
   "execution_count": 589,
   "metadata": {
    "scrolled": true
   },
   "outputs": [
    {
     "name": "stdout",
     "output_type": "stream",
     "text": [
      "Median precision: 0.99057\n"
     ]
    }
   ],
   "source": [
    "print('Median precision:' ,round(np.median(scores),5))"
   ]
  },
  {
   "cell_type": "markdown",
   "metadata": {},
   "source": [
    "GridSearch or RandomizedSearch can be utilized to fine tune whichever model was chosen by user. Sample code for RandomizedSearchCV is shown below."
   ]
  },
  {
   "cell_type": "code",
   "execution_count": 591,
   "metadata": {},
   "outputs": [],
   "source": [
    "# from sklearn.model_selection import RandomizedSearchCV\n",
    "\n",
    "# param_grid = {'n_estimators': [100,200,300], 'max_features': ['auto',None],'class_weight': \n",
    "#     ['balanced','balanced_subsample',None],'max_depth':[10,20]}\n",
    "\n",
    "\n",
    "# model = RandomForestClassifier()\n",
    "\n",
    "# random_search = RandomizedSearchCV(model,param_distributions=param_grid,cv=5,scoring='f1')"
   ]
  },
  {
   "cell_type": "markdown",
   "metadata": {},
   "source": [
    "## Prepare test set."
   ]
  },
  {
   "cell_type": "code",
   "execution_count": 592,
   "metadata": {},
   "outputs": [],
   "source": [
    "testY = test_set['Spam']\n",
    "test_set2 = test_set.drop(['Spam'],axis=1)\n",
    "test_set2.loc[:,'messageList'] = pd.Series(test_set2['Message'].apply(messageList))\n",
    "test_set2['messageLen'] = test_set2['messageList'].apply(messageLength)\n",
    "test_set2['caps&ints'] = test_set2['Message'].apply(howManyCapsInts)\n",
    "test_set2['ratio'] = test_set2['Message'].apply(non_alphaNum)\n",
    "test_set2.loc[:,'cleanMessage'] = pd.Series(test_set2['messageList'].apply(topMessage))"
   ]
  },
  {
   "cell_type": "code",
   "execution_count": 593,
   "metadata": {},
   "outputs": [],
   "source": [
    "test_vec =  pd.DataFrame()\n",
    "test_vec['col'] = (np.array(test_set2.apply(lambda row : bow(row['cleanMessage'], \n",
    "                                 totalLib), axis = 1)))\n",
    "test_vec =  test_vec.col.apply(pd.Series)"
   ]
  },
  {
   "cell_type": "code",
   "execution_count": 594,
   "metadata": {},
   "outputs": [],
   "source": [
    "test_tf = test_vec.div(test_vec.sum(axis=1)+.1, axis=0)\n",
    "test_vec = test_tf * idf"
   ]
  },
  {
   "cell_type": "code",
   "execution_count": 595,
   "metadata": {},
   "outputs": [],
   "source": [
    "testX =  test_set2[['messageLen','caps&ints','ratio']]\n",
    "testX = testX.reset_index().drop('index',axis=1)\n",
    "testX = pd.concat([testX,test_vec],axis=1,sort=False)"
   ]
  },
  {
   "cell_type": "markdown",
   "metadata": {},
   "source": [
    "<h2>Fit model and make predictions.</h2>"
   ]
  },
  {
   "cell_type": "code",
   "execution_count": 596,
   "metadata": {
    "scrolled": true
   },
   "outputs": [
    {
     "data": {
      "text/plain": [
       "RandomForestClassifier(bootstrap=True, class_weight='balanced',\n",
       "                       criterion='gini', max_depth=50, max_features='log2',\n",
       "                       max_leaf_nodes=None, min_impurity_decrease=0.0,\n",
       "                       min_impurity_split=None, min_samples_leaf=1,\n",
       "                       min_samples_split=2, min_weight_fraction_leaf=0.0,\n",
       "                       n_estimators=100, n_jobs=None, oob_score=False,\n",
       "                       random_state=42, verbose=0, warm_start=False)"
      ]
     },
     "execution_count": 596,
     "metadata": {},
     "output_type": "execute_result"
    }
   ],
   "source": [
    "model.fit(trainX,trainY)"
   ]
  },
  {
   "cell_type": "code",
   "execution_count": 597,
   "metadata": {
    "scrolled": true
   },
   "outputs": [
    {
     "data": {
      "text/plain": [
       "array([   0, 5259,    1])"
      ]
     },
     "execution_count": 597,
     "metadata": {},
     "output_type": "execute_result"
    }
   ],
   "source": [
    "feat_imp = model.feature_importances_\n",
    "np.argsort(feat_imp)[-3:]"
   ]
  },
  {
   "cell_type": "markdown",
   "metadata": {},
   "source": [
    "2 of the top 3 important features were message length and # of captial and integers."
   ]
  },
  {
   "cell_type": "code",
   "execution_count": 598,
   "metadata": {
    "scrolled": true
   },
   "outputs": [],
   "source": [
    "results = model.predict(testX)"
   ]
  },
  {
   "cell_type": "code",
   "execution_count": 599,
   "metadata": {},
   "outputs": [
    {
     "name": "stdout",
     "output_type": "stream",
     "text": [
      "              precision    recall  f1-score   support\n",
      "\n",
      "           0       0.98      1.00      0.99      1206\n",
      "           1       1.00      0.86      0.93       187\n",
      "\n",
      "    accuracy                           0.98      1393\n",
      "   macro avg       0.99      0.93      0.96      1393\n",
      "weighted avg       0.98      0.98      0.98      1393\n",
      "\n"
     ]
    }
   ],
   "source": [
    "print(classification_report(testY, results))"
   ]
  },
  {
   "cell_type": "code",
   "execution_count": 600,
   "metadata": {},
   "outputs": [
    {
     "name": "stdout",
     "output_type": "stream",
     "text": [
      "Area under ROC: 0.93\n"
     ]
    }
   ],
   "source": [
    "auc = roc_auc_score(testY, results, average='macro')\n",
    "print('Area under ROC:',round(auc,2))"
   ]
  },
  {
   "cell_type": "markdown",
   "metadata": {},
   "source": [
    "Scores all around are good but most importantly the probability of an SMS actually being spam given a prediciton of spam, is at 100%. Recall dips below .9 but we can live with a few spam messages getting through."
   ]
  },
  {
   "cell_type": "markdown",
   "metadata": {},
   "source": [
    "Summarize with confusion matrix."
   ]
  },
  {
   "cell_type": "code",
   "execution_count": 601,
   "metadata": {},
   "outputs": [],
   "source": [
    "from sklearn.metrics import confusion_matrix\n",
    "conf_mat = confusion_matrix(testY, results)"
   ]
  },
  {
   "cell_type": "code",
   "execution_count": 602,
   "metadata": {
    "scrolled": false
   },
   "outputs": [
    {
     "data": {
      "image/png": "[encoded data removed]",
      "text/plain": [
       "<Figure size 576x576 with 1 Axes>"
      ]
     },
     "metadata": {
      "needs_background": "light"
     },
     "output_type": "display_data"
    }
   ],
   "source": [
    "plt.figure(figsize=(8,8)) \n",
    "plt.imshow(conf_mat, cmap='Reds')\n",
    "s = [['TN','FP'], ['FN', 'TP']]\n",
    "for i in range(2):\n",
    "    for j in range(2):\n",
    "        plt.text(j,i, str(s[i][j])+\" = \"+str(conf_mat[i][j]),weight='bold')\n",
    "plt.axis('off')\n",
    "plt.show()"
   ]
  },
  {
   "cell_type": "markdown",
   "metadata": {},
   "source": [
    "Trial message"
   ]
  },
  {
   "cell_type": "code",
   "execution_count": 603,
   "metadata": {},
   "outputs": [],
   "source": [
    "def transform(message):\n",
    "    m = messageList(message)\n",
    "    length = messageLength(m)\n",
    "    num_caps = howManyCapsInts(message)\n",
    "    rat = non_alphaNum(message)\n",
    "    clean = topMessage(m)\n",
    "    bag = bow(clean,totalLib)\n",
    "    bag = bag/(sum(bag)+.1)\n",
    "    bag = bag*idf\n",
    "    feat = np.array([length,num_caps,rat])\n",
    "    final = np.concatenate((feat,bag))\n",
    "    return(final)\n",
    "    "
   ]
  },
  {
   "cell_type": "code",
   "execution_count": 648,
   "metadata": {},
   "outputs": [],
   "source": [
    "# a spam message I get often\n",
    "s = ('URGENT! Your WF account is locked.'\n",
    "    'Please log in at http:// to secure your account now.')\n"
   ]
  },
  {
   "cell_type": "code",
   "execution_count": 649,
   "metadata": {},
   "outputs": [],
   "source": [
    "trial = transform(s)"
   ]
  },
  {
   "cell_type": "code",
   "execution_count": 650,
   "metadata": {},
   "outputs": [
    {
     "name": "stdout",
     "output_type": "stream",
     "text": [
      "Spam\n"
     ]
    }
   ],
   "source": [
    "if model.predict(trial.reshape(1,-1))[0] ==0:\n",
    "    print('Not spam')\n",
    "else:\n",
    "    print('Spam')"
   ]
  },
  {
   "cell_type": "code",
   "execution_count": null,
   "metadata": {},
   "outputs": [],
   "source": []
  }
 ],
 "metadata": {
  "kernelspec": {
   "display_name": "Python 3",
   "language": "python",
   "name": "python3"
  },
  "language_info": {
   "codemirror_mode": {
    "name": "ipython",
    "version": 3
   },
   "file_extension": ".py",
   "mimetype": "text/x-python",
   "name": "python",
   "nbconvert_exporter": "python",
   "pygments_lexer": "ipython3",
   "version": "3.7.3"
  }
 },
 "nbformat": 4,
 "nbformat_minor": 2
}
